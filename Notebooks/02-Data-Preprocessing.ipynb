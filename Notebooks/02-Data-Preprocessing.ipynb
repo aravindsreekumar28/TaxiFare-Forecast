{
 "cells": [
  {
   "cell_type": "markdown",
   "id": "c2d9e806",
   "metadata": {
    "id": "rDGBuudKJJpu"
   },
   "source": [
    "# Exploratory Data Analysis (EDA)  🔍\n",
    "We will explore the dataset to identify patterns, detect missing values, and understand the relationship between features and the target (fare).\n"
   ]
  },
  {
   "cell_type": "code",
   "execution_count": null,
   "id": "5a5ecdc5",
   "metadata": {},
   "outputs": [
    {
     "name": "stdout",
     "output_type": "stream",
     "text": [
      "Defaulting to user installation because normal site-packages is not writeable\n",
      "Requirement already satisfied: nbformat in /Users/ra20020287/Library/Python/3.9/lib/python/site-packages (5.10.4)\n",
      "Requirement already satisfied: jupyter-core!=5.0.*,>=4.12 in /Users/ra20020287/Library/Python/3.9/lib/python/site-packages (from nbformat) (5.7.2)\n",
      "Requirement already satisfied: traitlets>=5.1 in /Users/ra20020287/Library/Python/3.9/lib/python/site-packages (from nbformat) (5.14.3)\n",
      "Requirement already satisfied: jsonschema>=2.6 in /Users/ra20020287/Library/Python/3.9/lib/python/site-packages (from nbformat) (4.23.0)\n",
      "Requirement already satisfied: fastjsonschema>=2.15 in /Users/ra20020287/Library/Python/3.9/lib/python/site-packages (from nbformat) (2.20.0)\n",
      "Requirement already satisfied: attrs>=22.2.0 in /Users/ra20020287/Library/Python/3.9/lib/python/site-packages (from jsonschema>=2.6->nbformat) (24.2.0)\n",
      "Requirement already satisfied: jsonschema-specifications>=2023.03.6 in /Users/ra20020287/Library/Python/3.9/lib/python/site-packages (from jsonschema>=2.6->nbformat) (2024.10.1)\n",
      "Requirement already satisfied: rpds-py>=0.7.1 in /Users/ra20020287/Library/Python/3.9/lib/python/site-packages (from jsonschema>=2.6->nbformat) (0.21.0)\n",
      "Requirement already satisfied: referencing>=0.28.4 in /Users/ra20020287/Library/Python/3.9/lib/python/site-packages (from jsonschema>=2.6->nbformat) (0.35.1)\n",
      "Requirement already satisfied: platformdirs>=2.5 in /Users/ra20020287/Library/Python/3.9/lib/python/site-packages (from jupyter-core!=5.0.*,>=4.12->nbformat) (4.3.6)\n",
      "\u001b[33mWARNING: You are using pip version 21.2.4; however, version 24.3.1 is available.\n",
      "You should consider upgrading via the '/Library/Developer/CommandLineTools/usr/bin/python3 -m pip install --upgrade pip' command.\u001b[0m\n",
      "Note: you may need to restart the kernel to use updated packages.\n",
      "Defaulting to user installation because normal site-packages is not writeable\n",
      "Requirement already satisfied: pandas in /Users/ra20020287/Library/Python/3.9/lib/python/site-packages (2.2.3)\n",
      "Requirement already satisfied: numpy in /Users/ra20020287/Library/Python/3.9/lib/python/site-packages (2.0.2)\n",
      "Requirement already satisfied: matplotlib in /Users/ra20020287/Library/Python/3.9/lib/python/site-packages (3.9.2)\n",
      "Requirement already satisfied: seaborn in /Users/ra20020287/Library/Python/3.9/lib/python/site-packages (0.13.2)\n",
      "Requirement already satisfied: scikit-learn in /Users/ra20020287/Library/Python/3.9/lib/python/site-packages (1.5.2)\n",
      "Requirement already satisfied: pytz>=2020.1 in /Users/ra20020287/Library/Python/3.9/lib/python/site-packages (from pandas) (2024.2)\n",
      "Requirement already satisfied: tzdata>=2022.7 in /Users/ra20020287/Library/Python/3.9/lib/python/site-packages (from pandas) (2024.2)\n",
      "Requirement already satisfied: python-dateutil>=2.8.2 in /Users/ra20020287/Library/Python/3.9/lib/python/site-packages (from pandas) (2.9.0.post0)\n",
      "Requirement already satisfied: pyparsing>=2.3.1 in /Users/ra20020287/Library/Python/3.9/lib/python/site-packages (from matplotlib) (3.2.0)\n",
      "Requirement already satisfied: packaging>=20.0 in /Users/ra20020287/Library/Python/3.9/lib/python/site-packages (from matplotlib) (24.2)\n",
      "Requirement already satisfied: cycler>=0.10 in /Users/ra20020287/Library/Python/3.9/lib/python/site-packages (from matplotlib) (0.12.1)\n",
      "Requirement already satisfied: fonttools>=4.22.0 in /Users/ra20020287/Library/Python/3.9/lib/python/site-packages (from matplotlib) (4.55.0)\n",
      "Requirement already satisfied: importlib-resources>=3.2.0 in /Users/ra20020287/Library/Python/3.9/lib/python/site-packages (from matplotlib) (6.4.5)\n",
      "Requirement already satisfied: kiwisolver>=1.3.1 in /Users/ra20020287/Library/Python/3.9/lib/python/site-packages (from matplotlib) (1.4.7)\n",
      "Requirement already satisfied: pillow>=8 in /Users/ra20020287/Library/Python/3.9/lib/python/site-packages (from matplotlib) (11.0.0)\n",
      "Requirement already satisfied: contourpy>=1.0.1 in /Users/ra20020287/Library/Python/3.9/lib/python/site-packages (from matplotlib) (1.3.0)\n",
      "Requirement already satisfied: threadpoolctl>=3.1.0 in /Users/ra20020287/Library/Python/3.9/lib/python/site-packages (from scikit-learn) (3.5.0)\n",
      "Requirement already satisfied: joblib>=1.2.0 in /Users/ra20020287/Library/Python/3.9/lib/python/site-packages (from scikit-learn) (1.4.2)\n",
      "Requirement already satisfied: scipy>=1.6.0 in /Users/ra20020287/Library/Python/3.9/lib/python/site-packages (from scikit-learn) (1.13.1)\n",
      "Requirement already satisfied: zipp>=3.1.0 in /Users/ra20020287/Library/Python/3.9/lib/python/site-packages (from importlib-resources>=3.2.0->matplotlib) (3.21.0)\n",
      "Requirement already satisfied: six>=1.5 in /Library/Developer/CommandLineTools/Library/Frameworks/Python3.framework/Versions/3.9/lib/python3.9/site-packages (from python-dateutil>=2.8.2->pandas) (1.15.0)\n",
      "\u001b[33mWARNING: You are using pip version 21.2.4; however, version 24.3.1 is available.\n",
      "You should consider upgrading via the '/Library/Developer/CommandLineTools/usr/bin/python3 -m pip install --upgrade pip' command.\u001b[0m\n",
      "Note: you may need to restart the kernel to use updated packages.\n"
     ]
    }
   ],
   "source": [
    "# In Notebook 2, run previous notebooks\n",
    "%run '01-Data-Collection.ipynb'"
   ]
  },
  {
   "cell_type": "code",
   "execution_count": 8,
   "id": "3f60793f",
   "metadata": {
    "colab": {
     "base_uri": "https://localhost:8080/",
     "height": 1000
    },
    "executionInfo": {
     "elapsed": 13070,
     "status": "ok",
     "timestamp": 1731058435992,
     "user": {
      "displayName": "Rajib Roy",
      "userId": "00246005228296582612"
     },
     "user_tz": 300
    },
    "id": "yPO5OnNdJKnt",
    "outputId": "24ad8ae3-07eb-49a3-9f47-14491a5bc2ef"
   },
   "outputs": [
    {
     "name": "stdout",
     "output_type": "stream",
     "text": [
      "<class 'pandas.core.frame.DataFrame'>\n",
      "RangeIndex: 500000 entries, 0 to 499999\n",
      "Data columns (total 26 columns):\n",
      " #   Column             Non-Null Count   Dtype  \n",
      "---  ------             --------------   -----  \n",
      " 0   User ID            500000 non-null  object \n",
      " 1   User Name          500000 non-null  object \n",
      " 2   Driver Name        500000 non-null  object \n",
      " 3   Car Condition      500000 non-null  object \n",
      " 4   Weather            500000 non-null  object \n",
      " 5   Traffic Condition  500000 non-null  object \n",
      " 6   key                500000 non-null  object \n",
      " 7   fare_amount        500000 non-null  float64\n",
      " 8   pickup_datetime    500000 non-null  object \n",
      " 9   pickup_longitude   500000 non-null  float64\n",
      " 10  pickup_latitude    500000 non-null  float64\n",
      " 11  dropoff_longitude  499995 non-null  float64\n",
      " 12  dropoff_latitude   499995 non-null  float64\n",
      " 13  passenger_count    500000 non-null  int64  \n",
      " 14  hour               500000 non-null  int64  \n",
      " 15  day                500000 non-null  int64  \n",
      " 16  month              500000 non-null  int64  \n",
      " 17  weekday            500000 non-null  int64  \n",
      " 18  year               500000 non-null  int64  \n",
      " 19  jfk_dist           499995 non-null  float64\n",
      " 20  ewr_dist           499995 non-null  float64\n",
      " 21  lga_dist           499995 non-null  float64\n",
      " 22  sol_dist           499995 non-null  float64\n",
      " 23  nyc_dist           499995 non-null  float64\n",
      " 24  distance           499995 non-null  float64\n",
      " 25  bearing            499995 non-null  float64\n",
      "dtypes: float64(12), int64(6), object(8)\n",
      "memory usage: 99.2+ MB\n"
     ]
    },
    {
     "data": {
      "image/png": "[encoded data removed]",
      "text/plain": [
       "<Figure size 800x600 with 1 Axes>"
      ]
     },
     "metadata": {},
     "output_type": "display_data"
    }
   ],
   "source": [
    "# Check data summary\n",
    "df.info()\n",
    "\n",
    "# Check for missing values\n",
    "df.isnull().sum()\n",
    "\n",
    "# Basic statistics\n",
    "df.describe()\n",
    "\n",
    "# Visualize distribution of fares\n",
    "plt.figure(figsize=(8, 6))\n",
    "sns.histplot(df['fare_amount'], kde=True, bins=50)\n",
    "plt.title('Fare Amount Distribution')\n",
    "plt.show()\n"
   ]
  },
  {
   "cell_type": "markdown",
   "id": "53e5c2c4",
   "metadata": {
    "id": "_B-56SLsJgcl"
   },
   "source": [
    "# Data Cleaning 🧹\n",
    "We will clean the data by handling missing values, removing outliers, and converting columns into usable formats such as date-time and distance.\n"
   ]
  },
  {
   "cell_type": "code",
   "execution_count": 9,
   "id": "7e65c6f3",
   "metadata": {
    "colab": {
     "base_uri": "https://localhost:8080/"
    },
    "executionInfo": {
     "elapsed": 823,
     "status": "ok",
     "timestamp": 1730944688654,
     "user": {
      "displayName": "Aravind S S",
      "userId": "05130540382526934217"
     },
     "user_tz": -330
    },
    "id": "ph4Ytk9VJhLM",
    "outputId": "802bb999-0963-4a47-b733-603ac2e98c09"
   },
   "outputs": [
    {
     "name": "stdout",
     "output_type": "stream",
     "text": [
      "Missing values:\n",
      " Car Condition        0\n",
      "Weather              0\n",
      "Traffic Condition    0\n",
      "fare_amount          0\n",
      "pickup_datetime      0\n",
      "pickup_longitude     0\n",
      "pickup_latitude      0\n",
      "dropoff_longitude    5\n",
      "dropoff_latitude     5\n",
      "passenger_count      0\n",
      "hour                 0\n",
      "day                  0\n",
      "month                0\n",
      "weekday              0\n",
      "year                 0\n",
      "jfk_dist             5\n",
      "ewr_dist             5\n",
      "lga_dist             5\n",
      "sol_dist             5\n",
      "nyc_dist             5\n",
      "distance             5\n",
      "bearing              5\n",
      "dtype: int64\n",
      "Car Condition                object\n",
      "Weather                      object\n",
      "Traffic Condition            object\n",
      "fare_amount                 float64\n",
      "pickup_datetime      datetime64[ns]\n",
      "pickup_longitude            float64\n",
      "pickup_latitude             float64\n",
      "dropoff_longitude           float64\n",
      "dropoff_latitude            float64\n",
      "passenger_count               int64\n",
      "hour                          int64\n",
      "day                           int64\n",
      "month                         int64\n",
      "weekday                       int64\n",
      "year                          int64\n",
      "jfk_dist                    float64\n",
      "ewr_dist                    float64\n",
      "lga_dist                    float64\n",
      "sol_dist                    float64\n",
      "nyc_dist                    float64\n",
      "distance                    float64\n",
      "bearing                     float64\n",
      "dtype: object\n"
     ]
    }
   ],
   "source": [
    "# Drop unnecessary columns\n",
    "df = df.drop(columns=['User ID', 'User Name', 'Driver Name', 'key'])\n",
    "\n",
    "# Check for missing values\n",
    "print(\"Missing values:\\n\", df.isnull().sum())\n",
    "\n",
    "# Convert 'pickup_datetime' to datetime format\n",
    "df['pickup_datetime'] = pd.to_datetime(df['pickup_datetime'])\n",
    "\n",
    "# Check the changes\n",
    "print(df.dtypes)\n"
   ]
  },
  {
   "cell_type": "code",
   "execution_count": 10,
   "id": "668be81a",
   "metadata": {
    "colab": {
     "base_uri": "https://localhost:8080/"
    },
    "executionInfo": {
     "elapsed": 398,
     "status": "ok",
     "timestamp": 1730944693861,
     "user": {
      "displayName": "Aravind S S",
      "userId": "05130540382526934217"
     },
     "user_tz": -330
    },
    "id": "HsOeutMtLN1u",
    "outputId": "4b99a2e7-b71e-4630-ba0c-db9c65369d62"
   },
   "outputs": [
    {
     "name": "stdout",
     "output_type": "stream",
     "text": [
      "Number of rows after dropping missing values: 499995\n"
     ]
    }
   ],
   "source": [
    "# Handle Missing Values\n",
    "# Drop rows with missing values\n",
    "df = df.dropna()\n",
    "\n",
    "# Check the number of rows after dropping\n",
    "print(f'Number of rows after dropping missing values: {df.shape[0]}')\n"
   ]
  }
 ],
 "metadata": {
  "kernelspec": {
   "display_name": "Python 3",
   "language": "python",
   "name": "python3"
  },
  "language_info": {
   "codemirror_mode": {
    "name": "ipython",
    "version": 3
   },
   "file_extension": ".py",
   "mimetype": "text/x-python",
   "name": "python",
   "nbconvert_exporter": "python",
   "pygments_lexer": "ipython3",
   "version": "3.9.6"
  }
 },
 "nbformat": 4,
 "nbformat_minor": 5
}
